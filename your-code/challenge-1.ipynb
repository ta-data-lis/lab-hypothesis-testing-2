{
 "cells": [
  {
   "cell_type": "markdown",
   "metadata": {},
   "source": [
    "# Challenge 1 - T-test\n",
    "\n",
    "In statistics, t-test is used to test if two data samples have a significant difference between their means. There are two types of t-test:\n",
    "\n",
    "* **Student's t-test** (a.k.a. independent or uncorrelated t-test). This type of t-test is to compare the samples of **two independent populations** (e.g. test scores of students in two different classes). `scipy` provides the [`ttest_ind`](https://docs.scipy.org/doc/scipy-0.15.1/reference/generated/scipy.stats.ttest_ind.html) method to conduct student's t-test.\n",
    "\n",
    "* **Paired t-test** (a.k.a. dependent or correlated t-test). This type of t-test is to compare the samples of **the same population** (e.g. scores of different tests of students in the same class). `scipy` provides the [`ttest_re`](https://docs.scipy.org/doc/scipy-0.15.1/reference/generated/scipy.stats.ttest_rel.html) method to conduct paired t-test.\n",
    "\n",
    "Both types of t-tests return a number which is called the **p-value**. If p-value is below 0.05, we can confidently declare the null-hypothesis is rejected and the difference is significant. If p-value is between 0.05 and 0.1, we may also declare the null-hypothesis is rejected but we are not highly confident. If p-value is above 0.1 we do not reject the null-hypothesis.\n",
    "\n",
    "Read more about the t-test in [this article](http://b.link/test50) and [this Quora](http://b.link/unpaired97). Make sure you understand when to use which type of t-test. "
   ]
  },
  {
   "cell_type": "code",
   "execution_count": 4,
   "metadata": {},
   "outputs": [],
   "source": [
    "# Import libraries\n",
    "import pandas as pd\n",
    "import numpy as np\n",
    "from scipy.stats import ttest_1samp\n",
    "import scipy.stats as st"
   ]
  },
  {
   "cell_type": "markdown",
   "metadata": {},
   "source": [
    "#### Import dataset\n",
    "\n",
    "In this challenge we will work on the Pokemon dataset. The goal is to test whether different groups of pokemon (e.g. Legendary vs Normal, Generation 1 vs 2, single-type vs dual-type) have different stats (e.g. HP, Attack, Defense, etc.)."
   ]
  },
  {
   "cell_type": "code",
   "execution_count": 2,
   "metadata": {},
   "outputs": [
    {
     "data": {
      "text/html": [
       "<div>\n",
       "<style scoped>\n",
       "    .dataframe tbody tr th:only-of-type {\n",
       "        vertical-align: middle;\n",
       "    }\n",
       "\n",
       "    .dataframe tbody tr th {\n",
       "        vertical-align: top;\n",
       "    }\n",
       "\n",
       "    .dataframe thead th {\n",
       "        text-align: right;\n",
       "    }\n",
       "</style>\n",
       "<table border=\"1\" class=\"dataframe\">\n",
       "  <thead>\n",
       "    <tr style=\"text-align: right;\">\n",
       "      <th></th>\n",
       "      <th>#</th>\n",
       "      <th>Name</th>\n",
       "      <th>Type 1</th>\n",
       "      <th>Type 2</th>\n",
       "      <th>Total</th>\n",
       "      <th>HP</th>\n",
       "      <th>Attack</th>\n",
       "      <th>Defense</th>\n",
       "      <th>Sp. Atk</th>\n",
       "      <th>Sp. Def</th>\n",
       "      <th>Speed</th>\n",
       "      <th>Generation</th>\n",
       "      <th>Legendary</th>\n",
       "    </tr>\n",
       "  </thead>\n",
       "  <tbody>\n",
       "    <tr>\n",
       "      <th>0</th>\n",
       "      <td>1</td>\n",
       "      <td>Bulbasaur</td>\n",
       "      <td>Grass</td>\n",
       "      <td>Poison</td>\n",
       "      <td>318</td>\n",
       "      <td>45</td>\n",
       "      <td>49</td>\n",
       "      <td>49</td>\n",
       "      <td>65</td>\n",
       "      <td>65</td>\n",
       "      <td>45</td>\n",
       "      <td>1</td>\n",
       "      <td>False</td>\n",
       "    </tr>\n",
       "    <tr>\n",
       "      <th>1</th>\n",
       "      <td>2</td>\n",
       "      <td>Ivysaur</td>\n",
       "      <td>Grass</td>\n",
       "      <td>Poison</td>\n",
       "      <td>405</td>\n",
       "      <td>60</td>\n",
       "      <td>62</td>\n",
       "      <td>63</td>\n",
       "      <td>80</td>\n",
       "      <td>80</td>\n",
       "      <td>60</td>\n",
       "      <td>1</td>\n",
       "      <td>False</td>\n",
       "    </tr>\n",
       "    <tr>\n",
       "      <th>2</th>\n",
       "      <td>3</td>\n",
       "      <td>Venusaur</td>\n",
       "      <td>Grass</td>\n",
       "      <td>Poison</td>\n",
       "      <td>525</td>\n",
       "      <td>80</td>\n",
       "      <td>82</td>\n",
       "      <td>83</td>\n",
       "      <td>100</td>\n",
       "      <td>100</td>\n",
       "      <td>80</td>\n",
       "      <td>1</td>\n",
       "      <td>False</td>\n",
       "    </tr>\n",
       "    <tr>\n",
       "      <th>3</th>\n",
       "      <td>3</td>\n",
       "      <td>VenusaurMega Venusaur</td>\n",
       "      <td>Grass</td>\n",
       "      <td>Poison</td>\n",
       "      <td>625</td>\n",
       "      <td>80</td>\n",
       "      <td>100</td>\n",
       "      <td>123</td>\n",
       "      <td>122</td>\n",
       "      <td>120</td>\n",
       "      <td>80</td>\n",
       "      <td>1</td>\n",
       "      <td>False</td>\n",
       "    </tr>\n",
       "    <tr>\n",
       "      <th>4</th>\n",
       "      <td>4</td>\n",
       "      <td>Charmander</td>\n",
       "      <td>Fire</td>\n",
       "      <td>NaN</td>\n",
       "      <td>309</td>\n",
       "      <td>39</td>\n",
       "      <td>52</td>\n",
       "      <td>43</td>\n",
       "      <td>60</td>\n",
       "      <td>50</td>\n",
       "      <td>65</td>\n",
       "      <td>1</td>\n",
       "      <td>False</td>\n",
       "    </tr>\n",
       "  </tbody>\n",
       "</table>\n",
       "</div>"
      ],
      "text/plain": [
       "   #                   Name Type 1  Type 2  Total  HP  Attack  Defense  \\\n",
       "0  1              Bulbasaur  Grass  Poison    318  45      49       49   \n",
       "1  2                Ivysaur  Grass  Poison    405  60      62       63   \n",
       "2  3               Venusaur  Grass  Poison    525  80      82       83   \n",
       "3  3  VenusaurMega Venusaur  Grass  Poison    625  80     100      123   \n",
       "4  4             Charmander   Fire     NaN    309  39      52       43   \n",
       "\n",
       "   Sp. Atk  Sp. Def  Speed  Generation  Legendary  \n",
       "0       65       65     45           1      False  \n",
       "1       80       80     60           1      False  \n",
       "2      100      100     80           1      False  \n",
       "3      122      120     80           1      False  \n",
       "4       60       50     65           1      False  "
      ]
     },
     "execution_count": 2,
     "metadata": {},
     "output_type": "execute_result"
    }
   ],
   "source": [
    "# Your code here:\n",
    "pokemon = pd.read_csv(\"Pokemon.csv\")\n",
    "pokemon.head()"
   ]
  },
  {
   "cell_type": "markdown",
   "metadata": {},
   "source": [
    "#### First we want to define a function with which we can test the means of a feature set of two samples. \n",
    "\n",
    "In the next cell you'll see the annotations of the Python function that explains what this function does and its arguments and returned value. This type of annotation is called **docstring** which is a convention used among Python developers. The docstring convention allows developers to write consistent tech documentations for their codes so that others can read. It also allows some websites to automatically parse the docstrings and display user-friendly documentations.\n",
    "\n",
    "Follow the specifications of the docstring and complete the function."
   ]
  },
  {
   "cell_type": "code",
   "execution_count": 8,
   "metadata": {},
   "outputs": [],
   "source": [
    "def t_test_features(s1, s2, features=['HP', 'Attack', 'Defense', 'Sp. Atk', 'Sp. Def', 'Speed', 'Total']):\n",
    "    \"\"\"Test means of a feature set of two samples\n",
    "    \n",
    "    Args:\n",
    "        s1 (dataframe): sample 1\n",
    "        s2 (dataframe): sample 2\n",
    "        features (list): an array of features to test\n",
    "    \n",
    "    Returns:\n",
    "        dict: a dictionary of t-test scores for each feature where the feature name is the key and the p-value is the value\n",
    "    \"\"\"\n",
    "       \n",
    "    results = {}\n",
    "\n",
    "    for feature in features:\n",
    "        stat, p_value = st.ttest_ind(s1[feature], s2[feature], equal_var = False)\n",
    "        results[feature] = p_value\n",
    "        \n",
    "    return results"
   ]
  },
  {
   "cell_type": "markdown",
   "metadata": {},
   "source": [
    "#### Using the `t_test_features` function, conduct t-test for Lengendary vs non-Legendary pokemons.\n",
    "\n",
    "*Hint: your output should look like below:*\n",
    "\n",
    "```\n",
    "{'HP': 1.0026911708035284e-13,\n",
    " 'Attack': 2.520372449236646e-16,\n",
    " 'Defense': 4.8269984949193316e-11,\n",
    " 'Sp. Atk': 1.5514614112239812e-21,\n",
    " 'Sp. Def': 2.2949327864052826e-15,\n",
    " 'Speed': 1.049016311882451e-18,\n",
    " 'Total': 9.357954335957446e-47}\n",
    " ```"
   ]
  },
  {
   "cell_type": "code",
   "execution_count": 10,
   "metadata": {},
   "outputs": [
    {
     "data": {
      "text/plain": [
       "{'HP': 1.0026911708035284e-13,\n",
       " 'Attack': 2.520372449236646e-16,\n",
       " 'Defense': 4.8269984949193316e-11,\n",
       " 'Sp. Atk': 1.5514614112239812e-21,\n",
       " 'Sp. Def': 2.2949327864052826e-15,\n",
       " 'Speed': 1.049016311882451e-18,\n",
       " 'Total': 9.357954335957446e-47}"
      ]
     },
     "execution_count": 10,
     "metadata": {},
     "output_type": "execute_result"
    }
   ],
   "source": [
    "# Your code here\n",
    "s1 = pokemon[pokemon[\"Legendary\"]==True] #legendary pokemons\n",
    "s2 = pokemon[pokemon[\"Legendary\"]==False] #non legendary pokemons\n",
    "\n",
    "t_test_features(s1,s2)"
   ]
  },
  {
   "cell_type": "markdown",
   "metadata": {},
   "source": [
    "#### From the test results above, what conclusion can you make? Do Legendary and non-Legendary pokemons have significantly different stats on each feature?"
   ]
  },
  {
   "cell_type": "code",
   "execution_count": null,
   "metadata": {},
   "outputs": [],
   "source": [
    "# Your comment here\n",
    "# the results indicate that the means of the features are significantly different between the two groups of Pokémon. \n",
    "# This can provide insights into the characteristics that tend to be more distinct between Legendary and non-Legendary Pokémon."
   ]
  },
  {
   "cell_type": "markdown",
   "metadata": {},
   "source": [
    "#### Next, conduct t-test for Generation 1 and Generation 2 pokemons."
   ]
  },
  {
   "cell_type": "code",
   "execution_count": 11,
   "metadata": {},
   "outputs": [
    {
     "data": {
      "text/html": [
       "<div>\n",
       "<style scoped>\n",
       "    .dataframe tbody tr th:only-of-type {\n",
       "        vertical-align: middle;\n",
       "    }\n",
       "\n",
       "    .dataframe tbody tr th {\n",
       "        vertical-align: top;\n",
       "    }\n",
       "\n",
       "    .dataframe thead th {\n",
       "        text-align: right;\n",
       "    }\n",
       "</style>\n",
       "<table border=\"1\" class=\"dataframe\">\n",
       "  <thead>\n",
       "    <tr style=\"text-align: right;\">\n",
       "      <th></th>\n",
       "      <th>#</th>\n",
       "      <th>Name</th>\n",
       "      <th>Type 1</th>\n",
       "      <th>Type 2</th>\n",
       "      <th>Total</th>\n",
       "      <th>HP</th>\n",
       "      <th>Attack</th>\n",
       "      <th>Defense</th>\n",
       "      <th>Sp. Atk</th>\n",
       "      <th>Sp. Def</th>\n",
       "      <th>Speed</th>\n",
       "      <th>Generation</th>\n",
       "      <th>Legendary</th>\n",
       "    </tr>\n",
       "  </thead>\n",
       "  <tbody>\n",
       "    <tr>\n",
       "      <th>0</th>\n",
       "      <td>1</td>\n",
       "      <td>Bulbasaur</td>\n",
       "      <td>Grass</td>\n",
       "      <td>Poison</td>\n",
       "      <td>318</td>\n",
       "      <td>45</td>\n",
       "      <td>49</td>\n",
       "      <td>49</td>\n",
       "      <td>65</td>\n",
       "      <td>65</td>\n",
       "      <td>45</td>\n",
       "      <td>1</td>\n",
       "      <td>False</td>\n",
       "    </tr>\n",
       "    <tr>\n",
       "      <th>1</th>\n",
       "      <td>2</td>\n",
       "      <td>Ivysaur</td>\n",
       "      <td>Grass</td>\n",
       "      <td>Poison</td>\n",
       "      <td>405</td>\n",
       "      <td>60</td>\n",
       "      <td>62</td>\n",
       "      <td>63</td>\n",
       "      <td>80</td>\n",
       "      <td>80</td>\n",
       "      <td>60</td>\n",
       "      <td>1</td>\n",
       "      <td>False</td>\n",
       "    </tr>\n",
       "    <tr>\n",
       "      <th>2</th>\n",
       "      <td>3</td>\n",
       "      <td>Venusaur</td>\n",
       "      <td>Grass</td>\n",
       "      <td>Poison</td>\n",
       "      <td>525</td>\n",
       "      <td>80</td>\n",
       "      <td>82</td>\n",
       "      <td>83</td>\n",
       "      <td>100</td>\n",
       "      <td>100</td>\n",
       "      <td>80</td>\n",
       "      <td>1</td>\n",
       "      <td>False</td>\n",
       "    </tr>\n",
       "  </tbody>\n",
       "</table>\n",
       "</div>"
      ],
      "text/plain": [
       "   #       Name Type 1  Type 2  Total  HP  Attack  Defense  Sp. Atk  Sp. Def  \\\n",
       "0  1  Bulbasaur  Grass  Poison    318  45      49       49       65       65   \n",
       "1  2    Ivysaur  Grass  Poison    405  60      62       63       80       80   \n",
       "2  3   Venusaur  Grass  Poison    525  80      82       83      100      100   \n",
       "\n",
       "   Speed  Generation  Legendary  \n",
       "0     45           1      False  \n",
       "1     60           1      False  \n",
       "2     80           1      False  "
      ]
     },
     "execution_count": 11,
     "metadata": {},
     "output_type": "execute_result"
    }
   ],
   "source": [
    "# Your code here\n",
    "pokemon.head(3)\n"
   ]
  },
  {
   "cell_type": "code",
   "execution_count": 13,
   "metadata": {},
   "outputs": [
    {
     "data": {
      "text/plain": [
       "{'HP': 0.14551697834219623,\n",
       " 'Attack': 0.24721958967217725,\n",
       " 'Defense': 0.5677711011725426,\n",
       " 'Sp. Atk': 0.12332165977104388,\n",
       " 'Sp. Def': 0.18829872292645752,\n",
       " 'Speed': 0.00239265937312135,\n",
       " 'Total': 0.5631377907941676}"
      ]
     },
     "execution_count": 13,
     "metadata": {},
     "output_type": "execute_result"
    }
   ],
   "source": [
    "#Hypothesis\n",
    "#H0: The mean of the features between Generation 1 and Generation 2 pokémons is equal.\n",
    "#H1 : The mean of the features between Generation 1 and Generation 2 pokémons is different.\n",
    "alpha = 0.05\n",
    "s1 = pokemon[pokemon[\"Generation\"]==1] #generation 1 pokemons\n",
    "s2 = pokemon[pokemon[\"Generation\"]==2] #generation 2 pokemons\n",
    "t_test_features(s1,s2)"
   ]
  },
  {
   "cell_type": "markdown",
   "metadata": {},
   "source": [
    "#### What conclusions can you make?"
   ]
  },
  {
   "cell_type": "code",
   "execution_count": null,
   "metadata": {},
   "outputs": [],
   "source": [
    "#the only feature that shows a statistically significant difference between Generation 1 and Generation 2 Pokémon is the Speed attribute. \n",
    "# This suggests that Generation 1 and Generation 2 Pokémon have different average Speed values, while other attributes do not show significant differences between the two generations."
   ]
  },
  {
   "cell_type": "code",
   "execution_count": 30,
   "metadata": {},
   "outputs": [
    {
     "name": "stdout",
     "output_type": "stream",
     "text": [
      "T-statistic (Attack vs Defense): 4.325566393330478\n",
      "P-value (Attack vs Defense): 1.7140303479358558e-05\n",
      "Reject the null hypothesis for Attack vs Defense\n",
      "\n",
      "T-statistic (Sp. Atk vs Sp. Def): 0.853986188453353\n",
      "P-value (Sp. Atk vs Sp. Def): 0.3933685997548122\n",
      "Do not reject the null hypothesis for Sp. Atk vs Sp. Def\n",
      "\n",
      "T-statistic (HP - Generation 1 vs 2): 0.14551697834219623\n",
      "Do not reject the null hypothesis for HP - Generation 1 vs 2\n",
      "\n",
      "T-statistic (Attack - Generation 1 vs 2): 0.24721958967217725\n",
      "Do not reject the null hypothesis for Attack - Generation 1 vs 2\n",
      "\n",
      "T-statistic (Defense - Generation 1 vs 2): 0.5677711011725426\n",
      "Do not reject the null hypothesis for Defense - Generation 1 vs 2\n",
      "\n",
      "T-statistic (Sp. Atk - Generation 1 vs 2): 0.12332165977104388\n",
      "Do not reject the null hypothesis for Sp. Atk - Generation 1 vs 2\n",
      "\n",
      "T-statistic (Sp. Def - Generation 1 vs 2): 0.18829872292645752\n",
      "Do not reject the null hypothesis for Sp. Def - Generation 1 vs 2\n",
      "\n",
      "T-statistic (Speed - Generation 1 vs 2): 0.00239265937312135\n",
      "Reject the null hypothesis for Speed - Generation 1 vs 2\n",
      "\n",
      "T-statistic (Total - Generation 1 vs 2): 0.5631377907941676\n",
      "Do not reject the null hypothesis for Total - Generation 1 vs 2\n",
      "\n"
     ]
    }
   ],
   "source": [
    "print(f\"T-statistic (Attack vs Defense): {t_statistic1}\")\n",
    "print(f\"P-value (Attack vs Defense): {p_value1}\")\n",
    "if p_value1 < alpha:\n",
    "    print(\"Reject the null hypothesis for Attack vs Defense\")\n",
    "else:\n",
    "    print(\"Do not reject the null hypothesis for Attack vs Defense\")\n",
    "print(\"\")\n",
    "\n",
    "print(f\"T-statistic (Sp. Atk vs Sp. Def): {t_statistic2}\")\n",
    "print(f\"P-value (Sp. Atk vs Sp. Def): {p_value2}\")\n",
    "if p_value2 < alpha:\n",
    "    print(\"Reject the null hypothesis for Sp. Atk vs Sp. Def\")\n",
    "else:\n",
    "    print(\"Do not reject the null hypothesis for Sp. Atk vs Sp. Def\")\n",
    "print(\"\")\n",
    "\n",
    "# Hypothesis for Generation 1 vs Generation 2\n",
    "\n",
    "for feature, p_value in results_generation.items():\n",
    "    print(f\"T-statistic ({feature} - Generation 1 vs 2): {p_value}\")\n",
    "    if p_value < alpha:\n",
    "        print(f\"Reject the null hypothesis for {feature} - Generation 1 vs 2\")\n",
    "    else:\n",
    "        print(f\"Do not reject the null hypothesis for {feature} - Generation 1 vs 2\")\n",
    "    print(\"\")"
   ]
  },
  {
   "cell_type": "markdown",
   "metadata": {},
   "source": [
    "#### Compare pokemons who have single type vs those having two types."
   ]
  },
  {
   "cell_type": "code",
   "execution_count": 17,
   "metadata": {},
   "outputs": [
    {
     "data": {
      "text/plain": [
       "{'HP': 0.11314389855379414,\n",
       " 'Attack': 0.00014932578145948305,\n",
       " 'Defense': 2.7978540411514693e-08,\n",
       " 'Sp. Atk': 0.00013876216585667907,\n",
       " 'Sp. Def': 0.00010730610934512779,\n",
       " 'Speed': 0.02421703281819093,\n",
       " 'Total': 1.1157056505229961e-07}"
      ]
     },
     "execution_count": 17,
     "metadata": {},
     "output_type": "execute_result"
    }
   ],
   "source": [
    "#I Choose Type 2 column with null values to distinguish between Pokemon with single type and those with two types\n",
    "#If a Pokémon has only one type, the \"Type 2\" column will be null for it\n",
    "#If a Pokémon has two types, the \"Type 2\" column will have a non-null value, indicating the Pokémon's second type\n",
    "\n",
    "\n",
    "s1 = pokemon[pokemon[\"Type 2\"].isnull()]  # Pokémon with single type\n",
    "s2 = pokemon[pokemon[\"Type 2\"].notnull()]  # Pokémon with two types\n",
    "\n",
    "t_test_results = t_test_features(s1, s2)\n",
    "t_test_results"
   ]
  },
  {
   "cell_type": "markdown",
   "metadata": {},
   "source": [
    "#### What conclusions can you make?"
   ]
  },
  {
   "cell_type": "code",
   "execution_count": null,
   "metadata": {},
   "outputs": [],
   "source": [
    "#he results indicate that several features (Attack, Defense, Sp. Atk, Sp. Def, and Total) show statistically significant differences between Pokémon with a single type and those with two types. The differences in Speed are also statistically significant but with a slightly lower significance level. \n",
    "# HP, however, does not show a significant difference between the two groups.\n",
    "\n"
   ]
  },
  {
   "cell_type": "markdown",
   "metadata": {},
   "source": [
    "#### Now, we want to compare whether there are significant differences of `Attack` vs `Defense`  and  `Sp. Atk` vs `Sp. Def` of all pokemons. Please write your code below.\n",
    "\n",
    "*Hint: are you comparing different populations or the same population?*"
   ]
  },
  {
   "cell_type": "code",
   "execution_count": 28,
   "metadata": {},
   "outputs": [
    {
     "name": "stdout",
     "output_type": "stream",
     "text": [
      "Results\n",
      "\n",
      "T-statistic (Attack vs Defense): 4.325566393330478\n",
      "P-value (Attack vs Defense): 1.7140303479358558e-05\n",
      "T-statistic (Sp. Atk vs Sp. Def): 0.853986188453353\n",
      "P-value (Sp. Atk vs Sp. Def): 0.3933685997548122\n",
      "\n",
      "Reject the null hypothesis for Attack vs Defense\n",
      "T-statistic (Sp. Atk vs Sp. Def): 0.853986188453353\n",
      "P-value (Sp. Atk vs Sp. Def): 0.3933685997548122\n",
      "Do not to reject the null hypothesis for Sp. Atk vs Sp. Def\n"
     ]
    }
   ],
   "source": [
    "#Hypothesis\n",
    "#Attack and Defense\n",
    "#H0 = The mean difference between \"Attack\" and \"Defense\" = 0\n",
    "#H1 = The mean difference between \"Attack\" and \"Defense\" !=0\n",
    "\n",
    "#Sp. Atk and Sp.Def\n",
    "#H0 = The mean difference between \"Sp.Atk\" and \"Sp.Def\" = 0\n",
    "#H1 = The mean difference between \"Sp.Atk\" and \"Sp.Def\" !=0\n",
    "\n",
    "alpha = 0.05\n",
    "\n",
    "#compute and testing Hypothesis\n",
    "pokemon[\"Attack_Defense_Diff\"] = pokemon[\"Attack\"] - pokemon[\"Defense\"] #Difference between Attack and Defense\n",
    "pokemon[\"Sp_Atk_Sp_Def_Diff\"] = pokemon[\"Sp. Atk\"] - pokemon[\"Sp. Def\"] #Difference between Sp. Atk and Sp.Def\n",
    "t_statistic1, p_value1 = st.ttest_rel(pokemon[\"Attack_Defense_Diff\"], np.zeros(len(pokemon)))\n",
    "t_statistic2, p_value2 = st.ttest_rel(pokemon[\"Sp_Atk_Sp_Def_Diff\"], np.zeros(len(pokemon)))\n",
    "\n",
    "print(\"Results\")\n",
    "print(\"\")\n",
    "print(f\"T-statistic (Attack vs Defense): {t_statistic1}\")\n",
    "print(f\"P-value (Attack vs Defense): {p_value1}\")\n",
    "print(f\"T-statistic (Sp. Atk vs Sp. Def): {t_statistic2}\")\n",
    "print(f\"P-value (Sp. Atk vs Sp. Def): {p_value2}\")\n",
    "\n",
    "print(\"\")\n",
    "if p_value1 < alpha:\n",
    "    print(\"Reject the null hypothesis for Attack vs Defense\")\n",
    "else:\n",
    "    print(\"Do not to reject the null hypothesis for Attack vs Defense\")\n",
    "\n",
    "print(f\"T-statistic (Sp. Atk vs Sp. Def): {t_statistic2}\")\n",
    "print(f\"P-value (Sp. Atk vs Sp. Def): {p_value2}\")\n",
    "if p_value2 < alpha:\n",
    "    print(\"Reject the null hypothesis for Sp. Atk vs Sp. Def\")\n",
    "else:\n",
    "    print(\"Do not to reject the null hypothesis for Sp. Atk vs Sp. Def\")"
   ]
  },
  {
   "cell_type": "markdown",
   "metadata": {},
   "source": [
    "#### What conclusions can you make?\n"
   ]
  },
  {
   "cell_type": "code",
   "execution_count": null,
   "metadata": {},
   "outputs": [],
   "source": [
    "# We can reject the null hypothesis for Attack vs Defense but not for Sp. Atk vs Sp. Def"
   ]
  }
 ],
 "metadata": {
  "kernelspec": {
   "display_name": "Python 3",
   "language": "python",
   "name": "python3"
  },
  "language_info": {
   "codemirror_mode": {
    "name": "ipython",
    "version": 3
   },
   "file_extension": ".py",
   "mimetype": "text/x-python",
   "name": "python",
   "nbconvert_exporter": "python",
   "pygments_lexer": "ipython3",
   "version": "3.10.9"
  }
 },
 "nbformat": 4,
 "nbformat_minor": 2
}
